{
 "cells": [
  {
   "cell_type": "code",
   "execution_count": 133,
   "id": "31dfe8a6",
   "metadata": {},
   "outputs": [],
   "source": [
    "import numpy as np\n",
    "from numpy.random import default_rng\n",
    "import matplotlib.pyplot as plt"
   ]
  },
  {
   "cell_type": "code",
   "execution_count": 139,
   "id": "9e961c35",
   "metadata": {},
   "outputs": [],
   "source": [
    "no_of_cards = 52\n",
    "no_of_shufflings = 100000\n",
    "shuffle_measure = np.array([])"
   ]
  },
  {
   "cell_type": "code",
   "execution_count": 140,
   "id": "96d1fd58",
   "metadata": {},
   "outputs": [],
   "source": [
    "def get_shuffle_measure(indices1, indices2):\n",
    "    return np.sum(np.abs(indices1 - indices2)) / len(indices1)"
   ]
  },
  {
   "cell_type": "code",
   "execution_count": 141,
   "id": "503b1719",
   "metadata": {},
   "outputs": [],
   "source": [
    "rng = default_rng()\n",
    "before = np.array(rng.choice(52, size=52, replace=False))\n",
    "\n",
    "for i in range(no_of_shufflings):\n",
    "    after = rng.choice(52, size=52, replace=False)\n",
    "    \n",
    "    indices1 = np.array([])\n",
    "    indices2 = np.array([])\n",
    "    \n",
    "    for j in range(no_of_cards):\n",
    "        indices1 = np.append(indices1, np.where(before == j))\n",
    "        indices2 = np.append(indices2, np.where(after == j))\n",
    "        \n",
    "    shuffle_measure = np.append(shuffle_measure, get_shuffle_measure(indices1, indices2))\n",
    "    before = after"
   ]
  },
  {
   "cell_type": "code",
   "execution_count": 142,
   "id": "87adbdf6",
   "metadata": {},
   "outputs": [
    {
     "data": {
      "image/png": "[encoded data removed]",
      "text/plain": [
       "<Figure size 432x288 with 1 Axes>"
      ]
     },
     "metadata": {
      "needs_background": "light"
     },
     "output_type": "display_data"
    }
   ],
   "source": [
    "plt.hist(shuffle_measure, bins=50)\n",
    "plt.show()"
   ]
  },
  {
   "cell_type": "code",
   "execution_count": 143,
   "id": "4e3fcd98",
   "metadata": {},
   "outputs": [
    {
     "name": "stdout",
     "output_type": "stream",
     "text": [
      "Mean is 17.321836923076926\n",
      "Standard deviation is 1.5445828378152378\n"
     ]
    }
   ],
   "source": [
    "mean = np.mean(shuffle_measure)\n",
    "std = np.std(shuffle_measure)\n",
    "\n",
    "print(\"Mean is {}\\nStandard deviation is {}\".format(mean, std))"
   ]
  },
  {
   "cell_type": "code",
   "execution_count": null,
   "id": "b2e1bb2b",
   "metadata": {},
   "outputs": [],
   "source": []
  }
 ],
 "metadata": {
  "kernelspec": {
   "display_name": "Python 3 (ipykernel)",
   "language": "python",
   "name": "python3"
  },
  "language_info": {
   "codemirror_mode": {
    "name": "ipython",
    "version": 3
   },
   "file_extension": ".py",
   "mimetype": "text/x-python",
   "name": "python",
   "nbconvert_exporter": "python",
   "pygments_lexer": "ipython3",
   "version": "3.9.7"
  }
 },
 "nbformat": 4,
 "nbformat_minor": 5
}
